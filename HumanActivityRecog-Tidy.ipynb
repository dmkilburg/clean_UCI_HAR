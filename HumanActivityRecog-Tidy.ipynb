{
 "cells": [
  {
   "cell_type": "markdown",
   "metadata": {},
   "source": [
    "# Human Activity Recognition using Smartphones Dataset\n",
    "### This dataset ref:\n",
    "[1] Davide Anguita, Alessandro Ghio, Luca Oneto, Xavier Parra and Jorge L. Reyes-Ortiz. Human Activity Recognition on Smartphones using a Multiclass Hardware-Friendly Support Vector Machine. International Workshop of Ambient Assisted Living (IWAAL 2012). Vitoria-Gasteiz, Spain. Dec 2012\n",
    "\n",
    "### The following code:\n",
    "- Merges the train and test data, and adds subject and activity features.\n",
    "- Extracts only the measurements on the mean and standard deviation for each measurement.\n",
    "- Features for ex.[tBodyAcc-mean()X] are broken up into signal(tBodyAcc) and statistic(meanX).\n",
    "  There are NAs present, but this is a consequence of some signals having an meanXYZ and not a\n",
    "  general mean and std, and visa versa. This takes a \"wide\" dataset and converts to \"long\"\n",
    "- Activites that were ID coded were converted to descriptive strings \n",
    "- Creates an independent dataframe, saved to averages.csv, that reports the averages of each\n",
    "  statistic grouped by (subject,activity,signal). Again, there are NAs present, due to some\n",
    "  statistics not applicable to certain signals."
   ]
  },
  {
   "cell_type": "code",
   "execution_count": 2,
   "metadata": {},
   "outputs": [],
   "source": [
    "## Load all relevent libraries\n",
    "library(tidyr)\n",
    "library(tidyverse) ## contains dplyr"
   ]
  },
  {
   "cell_type": "code",
   "execution_count": 14,
   "metadata": {},
   "outputs": [],
   "source": [
    "## Some functions used to format the feature names\n",
    "firstElement <- function(x){x[1]}\n",
    "secthirdElement <- function(x){paste0(x[2],x[3])}"
   ]
  },
  {
   "cell_type": "markdown",
   "metadata": {},
   "source": [
    "## Load the Data"
   ]
  },
  {
   "cell_type": "code",
   "execution_count": 3,
   "metadata": {},
   "outputs": [],
   "source": [
    "## Load all the relevent data\n",
    "X_train <- read.csv(\"./train/X_train.txt\",sep=\"\",header=F,nrows=7352)\n",
    "train_subject <- readLines(\"./train/subject_train.txt\")\n",
    "train_activity <- readLines(\"./train/y_train.txt\")\n",
    "\n",
    "X_test <- read.csv(\"./test/X_test.txt\",sep=\"\",header=F,nrows=2947)\n",
    "test_subject <- readLines(\"./test/subject_test.txt\")\n",
    "test_activity <- readLines(\"./test/y_test.txt\")\n",
    "\n",
    "X_features <- readLines(\"features.txt\")"
   ]
  },
  {
   "cell_type": "markdown",
   "metadata": {},
   "source": [
    "## Merge all the data into a cohesive dataframe"
   ]
  },
  {
   "cell_type": "code",
   "execution_count": 19,
   "metadata": {},
   "outputs": [],
   "source": [
    "## Merge train/test data.\n",
    "X <- rbind(X_train,X_test)\n",
    "\n",
    "## Merge subject and activity sets\n",
    "subject <- c(train_subject,test_subject)\n",
    "activity <- c(train_activity,test_activity)\n",
    "subActivity <- cbind(subject,activity)\n",
    "names(subActivity) <- c(\"subject\",\"activity\")\n",
    "\n",
    "## Add features to X\n",
    "names(X) <- gsub(\"[0-9]+\",\"\",X_features)"
   ]
  },
  {
   "cell_type": "code",
   "execution_count": 13,
   "metadata": {},
   "outputs": [
    {
     "data": {
      "text/html": [
       "<table>\n",
       "<thead><tr><th scope=col> tBodyAcc-mean()-X</th><th scope=col> tBodyAcc-mean()-Y</th><th scope=col> tBodyAcc-mean()-Z</th><th scope=col> tBodyAcc-std()-X</th><th scope=col> tBodyAcc-std()-Y</th><th scope=col> tBodyAcc-std()-Z</th><th scope=col> tBodyAcc-mad()-X</th><th scope=col> tBodyAcc-mad()-Y</th><th scope=col> tBodyAcc-mad()-Z</th><th scope=col> tBodyAcc-max()-X</th><th scope=col>⋯</th><th scope=col> fBodyBodyGyroJerkMag-meanFreq()</th><th scope=col> fBodyBodyGyroJerkMag-skewness()</th><th scope=col> fBodyBodyGyroJerkMag-kurtosis()</th><th scope=col> angle(tBodyAccMean,gravity)</th><th scope=col> angle(tBodyAccJerkMean),gravityMean)</th><th scope=col> angle(tBodyGyroMean,gravityMean)</th><th scope=col> angle(tBodyGyroJerkMean,gravityMean)</th><th scope=col> angle(X,gravityMean)</th><th scope=col> angle(Y,gravityMean)</th><th scope=col> angle(Z,gravityMean)</th></tr></thead>\n",
       "<tbody>\n",
       "\t<tr><td>0.2885845   </td><td>-0.02029417 </td><td>-0.1329051  </td><td>-0.9952786  </td><td>-0.9831106  </td><td>-0.9135264  </td><td>-0.9951121  </td><td>-0.9831846  </td><td>-0.9235270  </td><td>-0.9347238  </td><td>⋯           </td><td>-0.07432303 </td><td>-0.2986764  </td><td>-0.7103041  </td><td>-0.11275434 </td><td> 0.030400372</td><td>-0.4647614  </td><td>-0.01844588 </td><td>-0.8412468  </td><td>0.1799406   </td><td>-0.05862692 </td></tr>\n",
       "\t<tr><td>0.2784188   </td><td>-0.01641057 </td><td>-0.1235202  </td><td>-0.9982453  </td><td>-0.9753002  </td><td>-0.9603220  </td><td>-0.9988072  </td><td>-0.9749144  </td><td>-0.9576862  </td><td>-0.9430675  </td><td>⋯           </td><td> 0.15807454 </td><td>-0.5950509  </td><td>-0.8614993  </td><td> 0.05347695 </td><td>-0.007434566</td><td>-0.7326262  </td><td> 0.70351059 </td><td>-0.8447876  </td><td>0.1802889   </td><td>-0.05431672 </td></tr>\n",
       "\t<tr><td>0.2796531   </td><td>-0.01946716 </td><td>-0.1134617  </td><td>-0.9953796  </td><td>-0.9671870  </td><td>-0.9789440  </td><td>-0.9965199  </td><td>-0.9636684  </td><td>-0.9774686  </td><td>-0.9386916  </td><td>⋯           </td><td> 0.41450281 </td><td>-0.3907482  </td><td>-0.7601037  </td><td>-0.11855926 </td><td> 0.177899480</td><td> 0.1006992  </td><td> 0.80852908 </td><td>-0.8489335  </td><td>0.1806373   </td><td>-0.04911782 </td></tr>\n",
       "</tbody>\n",
       "</table>\n"
      ],
      "text/latex": [
       "\\begin{tabular}{r|lllllllllllllllllllllllllllllllllllllllllllllllllllllllllllllllllllllllllllllllllllllllllllllllllllllllllllllllllllllllllllllllllllllllllllllllllllllllllllllllllllllllllllllllllllllllllllllllllllllllllllllllllllllllllllllllllllllllllllllllllllllllllllllllllllllllllllllllllllllllllllllllllllllllllllllllllllllllllllllllllllllllllllllllllllllllllllllllllllllllllllllllllllllllllllllllllllllllllllllllllllllllllllllllllllllllllllllllllllllllllllllllllllllllllllllllllllllllllllllllllllllllllllllllllllllllllllllllllllllllllllllllllllllllllllllllllllllllllllllllll}\n",
       "  tBodyAcc-mean()-X &  tBodyAcc-mean()-Y &  tBodyAcc-mean()-Z &  tBodyAcc-std()-X &  tBodyAcc-std()-Y &  tBodyAcc-std()-Z &  tBodyAcc-mad()-X &  tBodyAcc-mad()-Y &  tBodyAcc-mad()-Z &  tBodyAcc-max()-X & ⋯ &  fBodyBodyGyroJerkMag-meanFreq() &  fBodyBodyGyroJerkMag-skewness() &  fBodyBodyGyroJerkMag-kurtosis() &  angle(tBodyAccMean,gravity) &  angle(tBodyAccJerkMean),gravityMean) &  angle(tBodyGyroMean,gravityMean) &  angle(tBodyGyroJerkMean,gravityMean) &  angle(X,gravityMean) &  angle(Y,gravityMean) &  angle(Z,gravityMean)\\\\\n",
       "\\hline\n",
       "\t 0.2885845    & -0.02029417  & -0.1329051   & -0.9952786   & -0.9831106   & -0.9135264   & -0.9951121   & -0.9831846   & -0.9235270   & -0.9347238   & ⋯            & -0.07432303  & -0.2986764   & -0.7103041   & -0.11275434  &  0.030400372 & -0.4647614   & -0.01844588  & -0.8412468   & 0.1799406    & -0.05862692 \\\\\n",
       "\t 0.2784188    & -0.01641057  & -0.1235202   & -0.9982453   & -0.9753002   & -0.9603220   & -0.9988072   & -0.9749144   & -0.9576862   & -0.9430675   & ⋯            &  0.15807454  & -0.5950509   & -0.8614993   &  0.05347695  & -0.007434566 & -0.7326262   &  0.70351059  & -0.8447876   & 0.1802889    & -0.05431672 \\\\\n",
       "\t 0.2796531    & -0.01946716  & -0.1134617   & -0.9953796   & -0.9671870   & -0.9789440   & -0.9965199   & -0.9636684   & -0.9774686   & -0.9386916   & ⋯            &  0.41450281  & -0.3907482   & -0.7601037   & -0.11855926  &  0.177899480 &  0.1006992   &  0.80852908  & -0.8489335   & 0.1806373    & -0.04911782 \\\\\n",
       "\\end{tabular}\n"
      ],
      "text/markdown": [
       "\n",
       " tBodyAcc-mean()-X |  tBodyAcc-mean()-Y |  tBodyAcc-mean()-Z |  tBodyAcc-std()-X |  tBodyAcc-std()-Y |  tBodyAcc-std()-Z |  tBodyAcc-mad()-X |  tBodyAcc-mad()-Y |  tBodyAcc-mad()-Z |  tBodyAcc-max()-X | ⋯ |  fBodyBodyGyroJerkMag-meanFreq() |  fBodyBodyGyroJerkMag-skewness() |  fBodyBodyGyroJerkMag-kurtosis() |  angle(tBodyAccMean,gravity) |  angle(tBodyAccJerkMean),gravityMean) |  angle(tBodyGyroMean,gravityMean) |  angle(tBodyGyroJerkMean,gravityMean) |  angle(X,gravityMean) |  angle(Y,gravityMean) |  angle(Z,gravityMean) | \n",
       "|---|---|---|\n",
       "| 0.2885845    | -0.02029417  | -0.1329051   | -0.9952786   | -0.9831106   | -0.9135264   | -0.9951121   | -0.9831846   | -0.9235270   | -0.9347238   | ⋯            | -0.07432303  | -0.2986764   | -0.7103041   | -0.11275434  |  0.030400372 | -0.4647614   | -0.01844588  | -0.8412468   | 0.1799406    | -0.05862692  | \n",
       "| 0.2784188    | -0.01641057  | -0.1235202   | -0.9982453   | -0.9753002   | -0.9603220   | -0.9988072   | -0.9749144   | -0.9576862   | -0.9430675   | ⋯            |  0.15807454  | -0.5950509   | -0.8614993   |  0.05347695  | -0.007434566 | -0.7326262   |  0.70351059  | -0.8447876   | 0.1802889    | -0.05431672  | \n",
       "| 0.2796531    | -0.01946716  | -0.1134617   | -0.9953796   | -0.9671870   | -0.9789440   | -0.9965199   | -0.9636684   | -0.9774686   | -0.9386916   | ⋯            |  0.41450281  | -0.3907482   | -0.7601037   | -0.11855926  |  0.177899480 |  0.1006992   |  0.80852908  | -0.8489335   | 0.1806373    | -0.04911782  | \n",
       "\n",
       "\n"
      ],
      "text/plain": [
       "   tBodyAcc-mean()-X  tBodyAcc-mean()-Y  tBodyAcc-mean()-Z  tBodyAcc-std()-X\n",
       "1 0.2885845          -0.02029417        -0.1329051         -0.9952786       \n",
       "2 0.2784188          -0.01641057        -0.1235202         -0.9982453       \n",
       "3 0.2796531          -0.01946716        -0.1134617         -0.9953796       \n",
       "   tBodyAcc-std()-Y  tBodyAcc-std()-Z  tBodyAcc-mad()-X  tBodyAcc-mad()-Y\n",
       "1 -0.9831106        -0.9135264        -0.9951121        -0.9831846       \n",
       "2 -0.9753002        -0.9603220        -0.9988072        -0.9749144       \n",
       "3 -0.9671870        -0.9789440        -0.9965199        -0.9636684       \n",
       "   tBodyAcc-mad()-Z  tBodyAcc-max()-X ⋯  fBodyBodyGyroJerkMag-meanFreq()\n",
       "1 -0.9235270        -0.9347238        ⋯ -0.07432303                     \n",
       "2 -0.9576862        -0.9430675        ⋯  0.15807454                     \n",
       "3 -0.9774686        -0.9386916        ⋯  0.41450281                     \n",
       "   fBodyBodyGyroJerkMag-skewness()  fBodyBodyGyroJerkMag-kurtosis()\n",
       "1 -0.2986764                       -0.7103041                      \n",
       "2 -0.5950509                       -0.8614993                      \n",
       "3 -0.3907482                       -0.7601037                      \n",
       "   angle(tBodyAccMean,gravity)  angle(tBodyAccJerkMean),gravityMean)\n",
       "1 -0.11275434                   0.030400372                         \n",
       "2  0.05347695                  -0.007434566                         \n",
       "3 -0.11855926                   0.177899480                         \n",
       "   angle(tBodyGyroMean,gravityMean)  angle(tBodyGyroJerkMean,gravityMean)\n",
       "1 -0.4647614                        -0.01844588                          \n",
       "2 -0.7326262                         0.70351059                          \n",
       "3  0.1006992                         0.80852908                          \n",
       "   angle(X,gravityMean)  angle(Y,gravityMean)  angle(Z,gravityMean)\n",
       "1 -0.8412468            0.1799406             -0.05862692          \n",
       "2 -0.8447876            0.1802889             -0.05431672          \n",
       "3 -0.8489335            0.1806373             -0.04911782          "
      ]
     },
     "metadata": {},
     "output_type": "display_data"
    }
   ],
   "source": [
    "## Look at a sample of the merged data\n",
    "head(X,n=3)"
   ]
  },
  {
   "cell_type": "code",
   "execution_count": 10,
   "metadata": {},
   "outputs": [],
   "source": [
    "## Select only features with mean,meanXYZ,std, and stdXYZ\n",
    "statsFeatures <- grep(\"mean\\\\(\\\\)|std\", X_features) # get indexes of relevent stat features\n",
    "statsData <- X[,statsFeatures]"
   ]
  },
  {
   "cell_type": "code",
   "execution_count": 18,
   "metadata": {},
   "outputs": [
    {
     "data": {
      "text/html": [
       "<table>\n",
       "<thead><tr><th scope=col> tBodyAcc-meanX</th><th scope=col> tBodyAcc-meanY</th><th scope=col> tBodyAcc-meanZ</th><th scope=col> tBodyAcc-stdX</th><th scope=col> tBodyAcc-stdY</th><th scope=col> tBodyAcc-stdZ</th><th scope=col> tGravityAcc-meanX</th><th scope=col> tGravityAcc-meanY</th><th scope=col> tGravityAcc-meanZ</th><th scope=col> tGravityAcc-stdX</th><th scope=col>⋯</th><th scope=col> fBodyGyro-stdY</th><th scope=col> fBodyGyro-stdZ</th><th scope=col> fBodyAccMag-meanNA</th><th scope=col> fBodyAccMag-stdNA</th><th scope=col> fBodyBodyAccJerkMag-meanNA</th><th scope=col> fBodyBodyAccJerkMag-stdNA</th><th scope=col> fBodyBodyGyroMag-meanNA</th><th scope=col> fBodyBodyGyroMag-stdNA</th><th scope=col> fBodyBodyGyroJerkMag-meanNA</th><th scope=col> fBodyBodyGyroJerkMag-stdNA</th></tr></thead>\n",
       "<tbody>\n",
       "\t<tr><td>0.2885845  </td><td>-0.02029417</td><td>-0.1329051 </td><td>-0.9952786 </td><td>-0.9831106 </td><td>-0.9135264 </td><td>0.9633961  </td><td>-0.1408397 </td><td>0.1153749  </td><td>-0.9852497 </td><td>⋯          </td><td>-0.9738861 </td><td>-0.9940349 </td><td>-0.9521547 </td><td>-0.956134  </td><td>-0.9937257 </td><td>-0.993755  </td><td>-0.9801349 </td><td>-0.9613094 </td><td>-0.9919904 </td><td>-0.9906975 </td></tr>\n",
       "</tbody>\n",
       "</table>\n"
      ],
      "text/latex": [
       "\\begin{tabular}{r|llllllllllllllllllllllllllllllllllllllllllllllllllllllllllllllllll}\n",
       "  tBodyAcc-meanX &  tBodyAcc-meanY &  tBodyAcc-meanZ &  tBodyAcc-stdX &  tBodyAcc-stdY &  tBodyAcc-stdZ &  tGravityAcc-meanX &  tGravityAcc-meanY &  tGravityAcc-meanZ &  tGravityAcc-stdX & ⋯ &  fBodyGyro-stdY &  fBodyGyro-stdZ &  fBodyAccMag-meanNA &  fBodyAccMag-stdNA &  fBodyBodyAccJerkMag-meanNA &  fBodyBodyAccJerkMag-stdNA &  fBodyBodyGyroMag-meanNA &  fBodyBodyGyroMag-stdNA &  fBodyBodyGyroJerkMag-meanNA &  fBodyBodyGyroJerkMag-stdNA\\\\\n",
       "\\hline\n",
       "\t 0.2885845   & -0.02029417 & -0.1329051  & -0.9952786  & -0.9831106  & -0.9135264  & 0.9633961   & -0.1408397  & 0.1153749   & -0.9852497  & ⋯           & -0.9738861  & -0.9940349  & -0.9521547  & -0.956134   & -0.9937257  & -0.993755   & -0.9801349  & -0.9613094  & -0.9919904  & -0.9906975 \\\\\n",
       "\\end{tabular}\n"
      ],
      "text/markdown": [
       "\n",
       " tBodyAcc-meanX |  tBodyAcc-meanY |  tBodyAcc-meanZ |  tBodyAcc-stdX |  tBodyAcc-stdY |  tBodyAcc-stdZ |  tGravityAcc-meanX |  tGravityAcc-meanY |  tGravityAcc-meanZ |  tGravityAcc-stdX | ⋯ |  fBodyGyro-stdY |  fBodyGyro-stdZ |  fBodyAccMag-meanNA |  fBodyAccMag-stdNA |  fBodyBodyAccJerkMag-meanNA |  fBodyBodyAccJerkMag-stdNA |  fBodyBodyGyroMag-meanNA |  fBodyBodyGyroMag-stdNA |  fBodyBodyGyroJerkMag-meanNA |  fBodyBodyGyroJerkMag-stdNA | \n",
       "|---|\n",
       "| 0.2885845   | -0.02029417 | -0.1329051  | -0.9952786  | -0.9831106  | -0.9135264  | 0.9633961   | -0.1408397  | 0.1153749   | -0.9852497  | ⋯           | -0.9738861  | -0.9940349  | -0.9521547  | -0.956134   | -0.9937257  | -0.993755   | -0.9801349  | -0.9613094  | -0.9919904  | -0.9906975  | \n",
       "\n",
       "\n"
      ],
      "text/plain": [
       "   tBodyAcc-meanX  tBodyAcc-meanY  tBodyAcc-meanZ  tBodyAcc-stdX  tBodyAcc-stdY\n",
       "1 0.2885845       -0.02029417     -0.1329051      -0.9952786     -0.9831106    \n",
       "   tBodyAcc-stdZ  tGravityAcc-meanX  tGravityAcc-meanY  tGravityAcc-meanZ\n",
       "1 -0.9135264     0.9633961          -0.1408397         0.1153749         \n",
       "   tGravityAcc-stdX ⋯  fBodyGyro-stdY  fBodyGyro-stdZ  fBodyAccMag-meanNA\n",
       "1 -0.9852497        ⋯ -0.9738861      -0.9940349      -0.9521547         \n",
       "   fBodyAccMag-stdNA  fBodyBodyAccJerkMag-meanNA  fBodyBodyAccJerkMag-stdNA\n",
       "1 -0.956134          -0.9937257                  -0.993755                 \n",
       "   fBodyBodyGyroMag-meanNA  fBodyBodyGyroMag-stdNA  fBodyBodyGyroJerkMag-meanNA\n",
       "1 -0.9801349               -0.9613094              -0.9919904                  \n",
       "   fBodyBodyGyroJerkMag-stdNA\n",
       "1 -0.9906975                 "
      ]
     },
     "metadata": {},
     "output_type": "display_data"
    }
   ],
   "source": [
    "## Look at Data\n",
    "head(statsData,n=1)"
   ]
  },
  {
   "cell_type": "code",
   "execution_count": 15,
   "metadata": {},
   "outputs": [],
   "source": [
    "## clean up feature names\n",
    "signal_stat_names <- strsplit(names(statsData),\"-\")\n",
    "\n",
    "signal <-sapply(signal_stat_names,firstElement) ## retrieve signal\n",
    "stats <- sapply(signal_stat_names,secthirdElement) ## get statistic\n",
    "stats <- gsub(\"\\\\(\\\\)\",\"\",stats) ## remove ()\n",
    "signal_stats <- paste(signal,stats,sep=\"-\") ## reformat\n",
    "names(statsData) <- signal_stats"
   ]
  },
  {
   "cell_type": "code",
   "execution_count": 17,
   "metadata": {},
   "outputs": [
    {
     "data": {
      "text/html": [
       "<table>\n",
       "<thead><tr><th scope=col> tBodyAcc-meanX</th><th scope=col> tBodyAcc-meanY</th><th scope=col> tBodyAcc-meanZ</th><th scope=col> tBodyAcc-stdX</th><th scope=col> tBodyAcc-stdY</th><th scope=col> tBodyAcc-stdZ</th><th scope=col> tGravityAcc-meanX</th><th scope=col> tGravityAcc-meanY</th><th scope=col> tGravityAcc-meanZ</th><th scope=col> tGravityAcc-stdX</th><th scope=col>⋯</th><th scope=col> fBodyGyro-stdY</th><th scope=col> fBodyGyro-stdZ</th><th scope=col> fBodyAccMag-meanNA</th><th scope=col> fBodyAccMag-stdNA</th><th scope=col> fBodyBodyAccJerkMag-meanNA</th><th scope=col> fBodyBodyAccJerkMag-stdNA</th><th scope=col> fBodyBodyGyroMag-meanNA</th><th scope=col> fBodyBodyGyroMag-stdNA</th><th scope=col> fBodyBodyGyroJerkMag-meanNA</th><th scope=col> fBodyBodyGyroJerkMag-stdNA</th></tr></thead>\n",
       "<tbody>\n",
       "\t<tr><td>0.2885845  </td><td>-0.02029417</td><td>-0.1329051 </td><td>-0.9952786 </td><td>-0.9831106 </td><td>-0.9135264 </td><td>0.9633961  </td><td>-0.1408397 </td><td>0.1153749  </td><td>-0.9852497 </td><td>⋯          </td><td>-0.9738861 </td><td>-0.9940349 </td><td>-0.9521547 </td><td>-0.956134  </td><td>-0.9937257 </td><td>-0.993755  </td><td>-0.9801349 </td><td>-0.9613094 </td><td>-0.9919904 </td><td>-0.9906975 </td></tr>\n",
       "</tbody>\n",
       "</table>\n"
      ],
      "text/latex": [
       "\\begin{tabular}{r|llllllllllllllllllllllllllllllllllllllllllllllllllllllllllllllllll}\n",
       "  tBodyAcc-meanX &  tBodyAcc-meanY &  tBodyAcc-meanZ &  tBodyAcc-stdX &  tBodyAcc-stdY &  tBodyAcc-stdZ &  tGravityAcc-meanX &  tGravityAcc-meanY &  tGravityAcc-meanZ &  tGravityAcc-stdX & ⋯ &  fBodyGyro-stdY &  fBodyGyro-stdZ &  fBodyAccMag-meanNA &  fBodyAccMag-stdNA &  fBodyBodyAccJerkMag-meanNA &  fBodyBodyAccJerkMag-stdNA &  fBodyBodyGyroMag-meanNA &  fBodyBodyGyroMag-stdNA &  fBodyBodyGyroJerkMag-meanNA &  fBodyBodyGyroJerkMag-stdNA\\\\\n",
       "\\hline\n",
       "\t 0.2885845   & -0.02029417 & -0.1329051  & -0.9952786  & -0.9831106  & -0.9135264  & 0.9633961   & -0.1408397  & 0.1153749   & -0.9852497  & ⋯           & -0.9738861  & -0.9940349  & -0.9521547  & -0.956134   & -0.9937257  & -0.993755   & -0.9801349  & -0.9613094  & -0.9919904  & -0.9906975 \\\\\n",
       "\\end{tabular}\n"
      ],
      "text/markdown": [
       "\n",
       " tBodyAcc-meanX |  tBodyAcc-meanY |  tBodyAcc-meanZ |  tBodyAcc-stdX |  tBodyAcc-stdY |  tBodyAcc-stdZ |  tGravityAcc-meanX |  tGravityAcc-meanY |  tGravityAcc-meanZ |  tGravityAcc-stdX | ⋯ |  fBodyGyro-stdY |  fBodyGyro-stdZ |  fBodyAccMag-meanNA |  fBodyAccMag-stdNA |  fBodyBodyAccJerkMag-meanNA |  fBodyBodyAccJerkMag-stdNA |  fBodyBodyGyroMag-meanNA |  fBodyBodyGyroMag-stdNA |  fBodyBodyGyroJerkMag-meanNA |  fBodyBodyGyroJerkMag-stdNA | \n",
       "|---|\n",
       "| 0.2885845   | -0.02029417 | -0.1329051  | -0.9952786  | -0.9831106  | -0.9135264  | 0.9633961   | -0.1408397  | 0.1153749   | -0.9852497  | ⋯           | -0.9738861  | -0.9940349  | -0.9521547  | -0.956134   | -0.9937257  | -0.993755   | -0.9801349  | -0.9613094  | -0.9919904  | -0.9906975  | \n",
       "\n",
       "\n"
      ],
      "text/plain": [
       "   tBodyAcc-meanX  tBodyAcc-meanY  tBodyAcc-meanZ  tBodyAcc-stdX  tBodyAcc-stdY\n",
       "1 0.2885845       -0.02029417     -0.1329051      -0.9952786     -0.9831106    \n",
       "   tBodyAcc-stdZ  tGravityAcc-meanX  tGravityAcc-meanY  tGravityAcc-meanZ\n",
       "1 -0.9135264     0.9633961          -0.1408397         0.1153749         \n",
       "   tGravityAcc-stdX ⋯  fBodyGyro-stdY  fBodyGyro-stdZ  fBodyAccMag-meanNA\n",
       "1 -0.9852497        ⋯ -0.9738861      -0.9940349      -0.9521547         \n",
       "   fBodyAccMag-stdNA  fBodyBodyAccJerkMag-meanNA  fBodyBodyAccJerkMag-stdNA\n",
       "1 -0.956134          -0.9937257                  -0.993755                 \n",
       "   fBodyBodyGyroMag-meanNA  fBodyBodyGyroMag-stdNA  fBodyBodyGyroJerkMag-meanNA\n",
       "1 -0.9801349               -0.9613094              -0.9919904                  \n",
       "   fBodyBodyGyroJerkMag-stdNA\n",
       "1 -0.9906975                 "
      ]
     },
     "metadata": {},
     "output_type": "display_data"
    }
   ],
   "source": [
    "## Check data\n",
    "head(statsData,n=1)"
   ]
  },
  {
   "cell_type": "code",
   "execution_count": 20,
   "metadata": {},
   "outputs": [],
   "source": [
    "## Add the subject and activity columns\n",
    "statsData <- cbind(subActivity,statsData)"
   ]
  },
  {
   "cell_type": "code",
   "execution_count": 21,
   "metadata": {},
   "outputs": [
    {
     "data": {
      "text/html": [
       "<table>\n",
       "<thead><tr><th scope=col>subject</th><th scope=col>activity</th><th scope=col> tBodyAcc-meanX</th><th scope=col> tBodyAcc-meanY</th><th scope=col> tBodyAcc-meanZ</th><th scope=col> tBodyAcc-stdX</th><th scope=col> tBodyAcc-stdY</th><th scope=col> tBodyAcc-stdZ</th><th scope=col> tGravityAcc-meanX</th><th scope=col> tGravityAcc-meanY</th><th scope=col>⋯</th><th scope=col> fBodyGyro-stdY</th><th scope=col> fBodyGyro-stdZ</th><th scope=col> fBodyAccMag-meanNA</th><th scope=col> fBodyAccMag-stdNA</th><th scope=col> fBodyBodyAccJerkMag-meanNA</th><th scope=col> fBodyBodyAccJerkMag-stdNA</th><th scope=col> fBodyBodyGyroMag-meanNA</th><th scope=col> fBodyBodyGyroMag-stdNA</th><th scope=col> fBodyBodyGyroJerkMag-meanNA</th><th scope=col> fBodyBodyGyroJerkMag-stdNA</th></tr></thead>\n",
       "<tbody>\n",
       "\t<tr><td>1          </td><td>5          </td><td>0.2885845  </td><td>-0.02029417</td><td>-0.1329051 </td><td>-0.9952786 </td><td>-0.9831106 </td><td>-0.9135264 </td><td>0.9633961  </td><td>-0.1408397 </td><td>⋯          </td><td>-0.9738861 </td><td>-0.9940349 </td><td>-0.9521547 </td><td>-0.956134  </td><td>-0.9937257 </td><td>-0.993755  </td><td>-0.9801349 </td><td>-0.9613094 </td><td>-0.9919904 </td><td>-0.9906975 </td></tr>\n",
       "</tbody>\n",
       "</table>\n"
      ],
      "text/latex": [
       "\\begin{tabular}{r|llllllllllllllllllllllllllllllllllllllllllllllllllllllllllllllllllll}\n",
       " subject & activity &  tBodyAcc-meanX &  tBodyAcc-meanY &  tBodyAcc-meanZ &  tBodyAcc-stdX &  tBodyAcc-stdY &  tBodyAcc-stdZ &  tGravityAcc-meanX &  tGravityAcc-meanY & ⋯ &  fBodyGyro-stdY &  fBodyGyro-stdZ &  fBodyAccMag-meanNA &  fBodyAccMag-stdNA &  fBodyBodyAccJerkMag-meanNA &  fBodyBodyAccJerkMag-stdNA &  fBodyBodyGyroMag-meanNA &  fBodyBodyGyroMag-stdNA &  fBodyBodyGyroJerkMag-meanNA &  fBodyBodyGyroJerkMag-stdNA\\\\\n",
       "\\hline\n",
       "\t 1           & 5           & 0.2885845   & -0.02029417 & -0.1329051  & -0.9952786  & -0.9831106  & -0.9135264  & 0.9633961   & -0.1408397  & ⋯           & -0.9738861  & -0.9940349  & -0.9521547  & -0.956134   & -0.9937257  & -0.993755   & -0.9801349  & -0.9613094  & -0.9919904  & -0.9906975 \\\\\n",
       "\\end{tabular}\n"
      ],
      "text/markdown": [
       "\n",
       "subject | activity |  tBodyAcc-meanX |  tBodyAcc-meanY |  tBodyAcc-meanZ |  tBodyAcc-stdX |  tBodyAcc-stdY |  tBodyAcc-stdZ |  tGravityAcc-meanX |  tGravityAcc-meanY | ⋯ |  fBodyGyro-stdY |  fBodyGyro-stdZ |  fBodyAccMag-meanNA |  fBodyAccMag-stdNA |  fBodyBodyAccJerkMag-meanNA |  fBodyBodyAccJerkMag-stdNA |  fBodyBodyGyroMag-meanNA |  fBodyBodyGyroMag-stdNA |  fBodyBodyGyroJerkMag-meanNA |  fBodyBodyGyroJerkMag-stdNA | \n",
       "|---|\n",
       "| 1           | 5           | 0.2885845   | -0.02029417 | -0.1329051  | -0.9952786  | -0.9831106  | -0.9135264  | 0.9633961   | -0.1408397  | ⋯           | -0.9738861  | -0.9940349  | -0.9521547  | -0.956134   | -0.9937257  | -0.993755   | -0.9801349  | -0.9613094  | -0.9919904  | -0.9906975  | \n",
       "\n",
       "\n"
      ],
      "text/plain": [
       "  subject activity  tBodyAcc-meanX  tBodyAcc-meanY  tBodyAcc-meanZ\n",
       "1 1       5        0.2885845       -0.02029417     -0.1329051     \n",
       "   tBodyAcc-stdX  tBodyAcc-stdY  tBodyAcc-stdZ  tGravityAcc-meanX\n",
       "1 -0.9952786     -0.9831106     -0.9135264     0.9633961         \n",
       "   tGravityAcc-meanY ⋯  fBodyGyro-stdY  fBodyGyro-stdZ  fBodyAccMag-meanNA\n",
       "1 -0.1408397         ⋯ -0.9738861      -0.9940349      -0.9521547         \n",
       "   fBodyAccMag-stdNA  fBodyBodyAccJerkMag-meanNA  fBodyBodyAccJerkMag-stdNA\n",
       "1 -0.956134          -0.9937257                  -0.993755                 \n",
       "   fBodyBodyGyroMag-meanNA  fBodyBodyGyroMag-stdNA  fBodyBodyGyroJerkMag-meanNA\n",
       "1 -0.9801349               -0.9613094              -0.9919904                  \n",
       "   fBodyBodyGyroJerkMag-stdNA\n",
       "1 -0.9906975                 "
      ]
     },
     "metadata": {},
     "output_type": "display_data"
    }
   ],
   "source": [
    "head(statsData,n=1)"
   ]
  },
  {
   "cell_type": "code",
   "execution_count": 22,
   "metadata": {},
   "outputs": [
    {
     "data": {
      "text/html": [
       "<ol class=list-inline>\n",
       "\t<li>10299</li>\n",
       "\t<li>68</li>\n",
       "</ol>\n"
      ],
      "text/latex": [
       "\\begin{enumerate*}\n",
       "\\item 10299\n",
       "\\item 68\n",
       "\\end{enumerate*}\n"
      ],
      "text/markdown": [
       "1. 10299\n",
       "2. 68\n",
       "\n",
       "\n"
      ],
      "text/plain": [
       "[1] 10299    68"
      ]
     },
     "metadata": {},
     "output_type": "display_data"
    }
   ],
   "source": [
    "dim(statsData)"
   ]
  },
  {
   "cell_type": "markdown",
   "metadata": {},
   "source": [
    "## Tidy the Data"
   ]
  },
  {
   "cell_type": "code",
   "execution_count": 26,
   "metadata": {},
   "outputs": [],
   "source": [
    "statsData %>% \n",
    "  gather(key=\"signal_stats\",value=\"value\",-subject,-activity) %>% # gather colunmns\n",
    "  separate(col=signal_stats,into=c(\"signal\",\"statistic\"),sep=\"-\") %>% # sep gathered cols\n",
    "  group_by_at(vars(-value)) %>%  # group by everything other than the value column. \n",
    "  mutate(row_id=1:n()) %>% ungroup() %>%  # build group index\n",
    "  spread(key=statistic, value=value) %>%    # spread\n",
    "  select(-row_id) -> #removes group index. assigns final \"result\" to result\n",
    "  result"
   ]
  },
  {
   "cell_type": "code",
   "execution_count": 27,
   "metadata": {},
   "outputs": [
    {
     "data": {
      "text/html": [
       "<table>\n",
       "<thead><tr><th scope=col>subject</th><th scope=col>activity</th><th scope=col>signal</th><th scope=col>meanNA</th><th scope=col>meanX</th><th scope=col>meanY</th><th scope=col>meanZ</th><th scope=col>stdNA</th><th scope=col>stdX</th><th scope=col>stdY</th><th scope=col>stdZ</th></tr></thead>\n",
       "<tbody>\n",
       "\t<tr><td>1          </td><td>1          </td><td> fBodyAcc  </td><td>NA         </td><td>-0.2609049 </td><td>-0.12256680</td><td>-0.3312160 </td><td>NA         </td><td>-0.3567070 </td><td>-0.19956719</td><td>-0.1777802 </td></tr>\n",
       "\t<tr><td>1          </td><td>1          </td><td> fBodyAcc  </td><td>NA         </td><td>-0.1511153 </td><td>-0.02904997</td><td>-0.2573071 </td><td>NA         </td><td>-0.2621973 </td><td>-0.02385785</td><td>-0.3221639 </td></tr>\n",
       "\t<tr><td>1          </td><td>1          </td><td> fBodyAcc  </td><td>NA         </td><td>-0.2304074 </td><td> 0.02542685</td><td>-0.3773113 </td><td>NA         </td><td>-0.2935223 </td><td>-0.05769317</td><td>-0.2900854 </td></tr>\n",
       "\t<tr><td>1          </td><td>1          </td><td> fBodyAcc  </td><td>NA         </td><td>-0.1513229 </td><td> 0.19526720</td><td>-0.3212387 </td><td>NA         </td><td>-0.2631256 </td><td> 0.08785532</td><td>-0.2169750 </td></tr>\n",
       "\t<tr><td>1          </td><td>1          </td><td> fBodyAcc  </td><td>NA         </td><td>-0.2258036 </td><td> 0.11028848</td><td>-0.2048832 </td><td>NA         </td><td>-0.2268023 </td><td> 0.11880106</td><td>-0.1463515 </td></tr>\n",
       "\t<tr><td>1          </td><td>1          </td><td> fBodyAcc  </td><td>NA         </td><td>-0.2904287 </td><td> 0.05782228</td><td>-0.2483574 </td><td>NA         </td><td>-0.1999707 </td><td>-0.06209912</td><td>-0.1106583 </td></tr>\n",
       "</tbody>\n",
       "</table>\n"
      ],
      "text/latex": [
       "\\begin{tabular}{r|lllllllllll}\n",
       " subject & activity & signal & meanNA & meanX & meanY & meanZ & stdNA & stdX & stdY & stdZ\\\\\n",
       "\\hline\n",
       "\t 1           & 1           &  fBodyAcc   & NA          & -0.2609049  & -0.12256680 & -0.3312160  & NA          & -0.3567070  & -0.19956719 & -0.1777802 \\\\\n",
       "\t 1           & 1           &  fBodyAcc   & NA          & -0.1511153  & -0.02904997 & -0.2573071  & NA          & -0.2621973  & -0.02385785 & -0.3221639 \\\\\n",
       "\t 1           & 1           &  fBodyAcc   & NA          & -0.2304074  &  0.02542685 & -0.3773113  & NA          & -0.2935223  & -0.05769317 & -0.2900854 \\\\\n",
       "\t 1           & 1           &  fBodyAcc   & NA          & -0.1513229  &  0.19526720 & -0.3212387  & NA          & -0.2631256  &  0.08785532 & -0.2169750 \\\\\n",
       "\t 1           & 1           &  fBodyAcc   & NA          & -0.2258036  &  0.11028848 & -0.2048832  & NA          & -0.2268023  &  0.11880106 & -0.1463515 \\\\\n",
       "\t 1           & 1           &  fBodyAcc   & NA          & -0.2904287  &  0.05782228 & -0.2483574  & NA          & -0.1999707  & -0.06209912 & -0.1106583 \\\\\n",
       "\\end{tabular}\n"
      ],
      "text/markdown": [
       "\n",
       "subject | activity | signal | meanNA | meanX | meanY | meanZ | stdNA | stdX | stdY | stdZ | \n",
       "|---|---|---|---|---|---|\n",
       "| 1           | 1           |  fBodyAcc   | NA          | -0.2609049  | -0.12256680 | -0.3312160  | NA          | -0.3567070  | -0.19956719 | -0.1777802  | \n",
       "| 1           | 1           |  fBodyAcc   | NA          | -0.1511153  | -0.02904997 | -0.2573071  | NA          | -0.2621973  | -0.02385785 | -0.3221639  | \n",
       "| 1           | 1           |  fBodyAcc   | NA          | -0.2304074  |  0.02542685 | -0.3773113  | NA          | -0.2935223  | -0.05769317 | -0.2900854  | \n",
       "| 1           | 1           |  fBodyAcc   | NA          | -0.1513229  |  0.19526720 | -0.3212387  | NA          | -0.2631256  |  0.08785532 | -0.2169750  | \n",
       "| 1           | 1           |  fBodyAcc   | NA          | -0.2258036  |  0.11028848 | -0.2048832  | NA          | -0.2268023  |  0.11880106 | -0.1463515  | \n",
       "| 1           | 1           |  fBodyAcc   | NA          | -0.2904287  |  0.05782228 | -0.2483574  | NA          | -0.1999707  | -0.06209912 | -0.1106583  | \n",
       "\n",
       "\n"
      ],
      "text/plain": [
       "  subject activity signal    meanNA meanX      meanY       meanZ      stdNA\n",
       "1 1       1         fBodyAcc NA     -0.2609049 -0.12256680 -0.3312160 NA   \n",
       "2 1       1         fBodyAcc NA     -0.1511153 -0.02904997 -0.2573071 NA   \n",
       "3 1       1         fBodyAcc NA     -0.2304074  0.02542685 -0.3773113 NA   \n",
       "4 1       1         fBodyAcc NA     -0.1513229  0.19526720 -0.3212387 NA   \n",
       "5 1       1         fBodyAcc NA     -0.2258036  0.11028848 -0.2048832 NA   \n",
       "6 1       1         fBodyAcc NA     -0.2904287  0.05782228 -0.2483574 NA   \n",
       "  stdX       stdY        stdZ      \n",
       "1 -0.3567070 -0.19956719 -0.1777802\n",
       "2 -0.2621973 -0.02385785 -0.3221639\n",
       "3 -0.2935223 -0.05769317 -0.2900854\n",
       "4 -0.2631256  0.08785532 -0.2169750\n",
       "5 -0.2268023  0.11880106 -0.1463515\n",
       "6 -0.1999707 -0.06209912 -0.1106583"
      ]
     },
     "metadata": {},
     "output_type": "display_data"
    }
   ],
   "source": [
    "head(result)"
   ]
  },
  {
   "cell_type": "code",
   "execution_count": 28,
   "metadata": {},
   "outputs": [],
   "source": [
    "# Remove the NAs in feature names\n",
    "names(result)[4] <- \"mean\"; names(result)[8] <- \"std\"\n",
    "\n",
    "# Change activity values from ID codes to strings\n",
    "result$activity <- revalue(result$activity, c(\"1\"=\"walking\",\"2\"=\"walkingUpstairs\",\n",
    "                                              \"3\"=\"walkingDownstairs\",\"4\"=\"sitting\",\n",
    "                                              \"5\"=\"standing\",\"6\"=\"laying\"))"
   ]
  },
  {
   "cell_type": "code",
   "execution_count": 29,
   "metadata": {},
   "outputs": [
    {
     "data": {
      "text/html": [
       "<table>\n",
       "<thead><tr><th scope=col>subject</th><th scope=col>activity</th><th scope=col>signal</th><th scope=col>mean</th><th scope=col>meanX</th><th scope=col>meanY</th><th scope=col>meanZ</th><th scope=col>std</th><th scope=col>stdX</th><th scope=col>stdY</th><th scope=col>stdZ</th></tr></thead>\n",
       "<tbody>\n",
       "\t<tr><td>20               </td><td>standing         </td><td> tBodyAccJerk    </td><td>        NA       </td><td> 0.07549118      </td><td> 0.002051514     </td><td>-0.03674039      </td><td>        NA       </td><td>-0.9323461       </td><td>-0.8533053       </td><td>-0.9741196       </td></tr>\n",
       "\t<tr><td>6                </td><td>laying           </td><td> fBodyAccMag     </td><td>-0.9780440       </td><td>         NA      </td><td>          NA     </td><td>         NA      </td><td>-0.9596557       </td><td>        NA       </td><td>        NA       </td><td>        NA       </td></tr>\n",
       "\t<tr><td>12               </td><td>walking          </td><td> tBodyGyroMag    </td><td>-0.3438419       </td><td>         NA      </td><td>          NA     </td><td>         NA      </td><td>-0.2997060       </td><td>        NA       </td><td>        NA       </td><td>        NA       </td></tr>\n",
       "\t<tr><td>21               </td><td>laying           </td><td> fBodyAccMag     </td><td>-0.9834632       </td><td>         NA      </td><td>          NA     </td><td>         NA      </td><td>-0.9531258       </td><td>        NA       </td><td>        NA       </td><td>        NA       </td></tr>\n",
       "\t<tr><td>2                </td><td>sitting          </td><td> fBodyBodyGyroMag</td><td>-0.9859797       </td><td>         NA      </td><td>          NA     </td><td>         NA      </td><td>-0.9846586       </td><td>        NA       </td><td>        NA       </td><td>        NA       </td></tr>\n",
       "\t<tr><td>25               </td><td>sitting          </td><td> fBodyAccJerk    </td><td>        NA       </td><td>-0.99210286      </td><td>-0.976303190     </td><td>-0.98369014      </td><td>        NA       </td><td>-0.9935039       </td><td>-0.9725965       </td><td>-0.9860911       </td></tr>\n",
       "</tbody>\n",
       "</table>\n"
      ],
      "text/latex": [
       "\\begin{tabular}{r|lllllllllll}\n",
       " subject & activity & signal & mean & meanX & meanY & meanZ & std & stdX & stdY & stdZ\\\\\n",
       "\\hline\n",
       "\t 20                & standing          &  tBodyAccJerk     &         NA        &  0.07549118       &  0.002051514      & -0.03674039       &         NA        & -0.9323461        & -0.8533053        & -0.9741196       \\\\\n",
       "\t 6                 & laying            &  fBodyAccMag      & -0.9780440        &          NA       &           NA      &          NA       & -0.9596557        &         NA        &         NA        &         NA       \\\\\n",
       "\t 12                & walking           &  tBodyGyroMag     & -0.3438419        &          NA       &           NA      &          NA       & -0.2997060        &         NA        &         NA        &         NA       \\\\\n",
       "\t 21                & laying            &  fBodyAccMag      & -0.9834632        &          NA       &           NA      &          NA       & -0.9531258        &         NA        &         NA        &         NA       \\\\\n",
       "\t 2                 & sitting           &  fBodyBodyGyroMag & -0.9859797        &          NA       &           NA      &          NA       & -0.9846586        &         NA        &         NA        &         NA       \\\\\n",
       "\t 25                & sitting           &  fBodyAccJerk     &         NA        & -0.99210286       & -0.976303190      & -0.98369014       &         NA        & -0.9935039        & -0.9725965        & -0.9860911       \\\\\n",
       "\\end{tabular}\n"
      ],
      "text/markdown": [
       "\n",
       "subject | activity | signal | mean | meanX | meanY | meanZ | std | stdX | stdY | stdZ | \n",
       "|---|---|---|---|---|---|\n",
       "| 20                | standing          |  tBodyAccJerk     |         NA        |  0.07549118       |  0.002051514      | -0.03674039       |         NA        | -0.9323461        | -0.8533053        | -0.9741196        | \n",
       "| 6                 | laying            |  fBodyAccMag      | -0.9780440        |          NA       |           NA      |          NA       | -0.9596557        |         NA        |         NA        |         NA        | \n",
       "| 12                | walking           |  tBodyGyroMag     | -0.3438419        |          NA       |           NA      |          NA       | -0.2997060        |         NA        |         NA        |         NA        | \n",
       "| 21                | laying            |  fBodyAccMag      | -0.9834632        |          NA       |           NA      |          NA       | -0.9531258        |         NA        |         NA        |         NA        | \n",
       "| 2                 | sitting           |  fBodyBodyGyroMag | -0.9859797        |          NA       |           NA      |          NA       | -0.9846586        |         NA        |         NA        |         NA        | \n",
       "| 25                | sitting           |  fBodyAccJerk     |         NA        | -0.99210286       | -0.976303190      | -0.98369014       |         NA        | -0.9935039        | -0.9725965        | -0.9860911        | \n",
       "\n",
       "\n"
      ],
      "text/plain": [
       "  subject activity signal            mean       meanX       meanY       \n",
       "1 20      standing  tBodyAccJerk             NA  0.07549118  0.002051514\n",
       "2 6       laying    fBodyAccMag      -0.9780440          NA           NA\n",
       "3 12      walking   tBodyGyroMag     -0.3438419          NA           NA\n",
       "4 21      laying    fBodyAccMag      -0.9834632          NA           NA\n",
       "5 2       sitting   fBodyBodyGyroMag -0.9859797          NA           NA\n",
       "6 25      sitting   fBodyAccJerk             NA -0.99210286 -0.976303190\n",
       "  meanZ       std        stdX       stdY       stdZ      \n",
       "1 -0.03674039         NA -0.9323461 -0.8533053 -0.9741196\n",
       "2          NA -0.9596557         NA         NA         NA\n",
       "3          NA -0.2997060         NA         NA         NA\n",
       "4          NA -0.9531258         NA         NA         NA\n",
       "5          NA -0.9846586         NA         NA         NA\n",
       "6 -0.98369014         NA -0.9935039 -0.9725965 -0.9860911"
      ]
     },
     "metadata": {},
     "output_type": "display_data"
    }
   ],
   "source": [
    "sample_n(result,6)"
   ]
  },
  {
   "cell_type": "code",
   "execution_count": 30,
   "metadata": {},
   "outputs": [
    {
     "data": {
      "text/html": [
       "<table>\n",
       "<thead><tr><th scope=col>subject</th><th scope=col>activity</th><th scope=col>signal</th><th scope=col>mean</th><th scope=col>meanX</th><th scope=col>meanY</th><th scope=col>meanZ</th><th scope=col>std</th><th scope=col>stdX</th><th scope=col>stdY</th><th scope=col>stdZ</th></tr></thead>\n",
       "<tbody>\n",
       "\t<tr><td>1          </td><td>walking    </td><td> fBodyAcc  </td><td>NA         </td><td>-0.2609049 </td><td>-0.12256680</td><td>-0.3312160 </td><td>NA         </td><td>-0.3567070 </td><td>-0.19956719</td><td>-0.1777802 </td></tr>\n",
       "\t<tr><td>1          </td><td>walking    </td><td> fBodyAcc  </td><td>NA         </td><td>-0.1511153 </td><td>-0.02904997</td><td>-0.2573071 </td><td>NA         </td><td>-0.2621973 </td><td>-0.02385785</td><td>-0.3221639 </td></tr>\n",
       "\t<tr><td>1          </td><td>walking    </td><td> fBodyAcc  </td><td>NA         </td><td>-0.2304074 </td><td> 0.02542685</td><td>-0.3773113 </td><td>NA         </td><td>-0.2935223 </td><td>-0.05769317</td><td>-0.2900854 </td></tr>\n",
       "\t<tr><td>1          </td><td>walking    </td><td> fBodyAcc  </td><td>NA         </td><td>-0.1513229 </td><td> 0.19526720</td><td>-0.3212387 </td><td>NA         </td><td>-0.2631256 </td><td> 0.08785532</td><td>-0.2169750 </td></tr>\n",
       "\t<tr><td>1          </td><td>walking    </td><td> fBodyAcc  </td><td>NA         </td><td>-0.2258036 </td><td> 0.11028848</td><td>-0.2048832 </td><td>NA         </td><td>-0.2268023 </td><td> 0.11880106</td><td>-0.1463515 </td></tr>\n",
       "\t<tr><td>1          </td><td>walking    </td><td> fBodyAcc  </td><td>NA         </td><td>-0.2904287 </td><td> 0.05782228</td><td>-0.2483574 </td><td>NA         </td><td>-0.1999707 </td><td>-0.06209912</td><td>-0.1106583 </td></tr>\n",
       "</tbody>\n",
       "</table>\n"
      ],
      "text/latex": [
       "\\begin{tabular}{r|lllllllllll}\n",
       " subject & activity & signal & mean & meanX & meanY & meanZ & std & stdX & stdY & stdZ\\\\\n",
       "\\hline\n",
       "\t 1           & walking     &  fBodyAcc   & NA          & -0.2609049  & -0.12256680 & -0.3312160  & NA          & -0.3567070  & -0.19956719 & -0.1777802 \\\\\n",
       "\t 1           & walking     &  fBodyAcc   & NA          & -0.1511153  & -0.02904997 & -0.2573071  & NA          & -0.2621973  & -0.02385785 & -0.3221639 \\\\\n",
       "\t 1           & walking     &  fBodyAcc   & NA          & -0.2304074  &  0.02542685 & -0.3773113  & NA          & -0.2935223  & -0.05769317 & -0.2900854 \\\\\n",
       "\t 1           & walking     &  fBodyAcc   & NA          & -0.1513229  &  0.19526720 & -0.3212387  & NA          & -0.2631256  &  0.08785532 & -0.2169750 \\\\\n",
       "\t 1           & walking     &  fBodyAcc   & NA          & -0.2258036  &  0.11028848 & -0.2048832  & NA          & -0.2268023  &  0.11880106 & -0.1463515 \\\\\n",
       "\t 1           & walking     &  fBodyAcc   & NA          & -0.2904287  &  0.05782228 & -0.2483574  & NA          & -0.1999707  & -0.06209912 & -0.1106583 \\\\\n",
       "\\end{tabular}\n"
      ],
      "text/markdown": [
       "\n",
       "subject | activity | signal | mean | meanX | meanY | meanZ | std | stdX | stdY | stdZ | \n",
       "|---|---|---|---|---|---|\n",
       "| 1           | walking     |  fBodyAcc   | NA          | -0.2609049  | -0.12256680 | -0.3312160  | NA          | -0.3567070  | -0.19956719 | -0.1777802  | \n",
       "| 1           | walking     |  fBodyAcc   | NA          | -0.1511153  | -0.02904997 | -0.2573071  | NA          | -0.2621973  | -0.02385785 | -0.3221639  | \n",
       "| 1           | walking     |  fBodyAcc   | NA          | -0.2304074  |  0.02542685 | -0.3773113  | NA          | -0.2935223  | -0.05769317 | -0.2900854  | \n",
       "| 1           | walking     |  fBodyAcc   | NA          | -0.1513229  |  0.19526720 | -0.3212387  | NA          | -0.2631256  |  0.08785532 | -0.2169750  | \n",
       "| 1           | walking     |  fBodyAcc   | NA          | -0.2258036  |  0.11028848 | -0.2048832  | NA          | -0.2268023  |  0.11880106 | -0.1463515  | \n",
       "| 1           | walking     |  fBodyAcc   | NA          | -0.2904287  |  0.05782228 | -0.2483574  | NA          | -0.1999707  | -0.06209912 | -0.1106583  | \n",
       "\n",
       "\n"
      ],
      "text/plain": [
       "  subject activity signal    mean meanX      meanY       meanZ      std\n",
       "1 1       walking   fBodyAcc NA   -0.2609049 -0.12256680 -0.3312160 NA \n",
       "2 1       walking   fBodyAcc NA   -0.1511153 -0.02904997 -0.2573071 NA \n",
       "3 1       walking   fBodyAcc NA   -0.2304074  0.02542685 -0.3773113 NA \n",
       "4 1       walking   fBodyAcc NA   -0.1513229  0.19526720 -0.3212387 NA \n",
       "5 1       walking   fBodyAcc NA   -0.2258036  0.11028848 -0.2048832 NA \n",
       "6 1       walking   fBodyAcc NA   -0.2904287  0.05782228 -0.2483574 NA \n",
       "  stdX       stdY        stdZ      \n",
       "1 -0.3567070 -0.19956719 -0.1777802\n",
       "2 -0.2621973 -0.02385785 -0.3221639\n",
       "3 -0.2935223 -0.05769317 -0.2900854\n",
       "4 -0.2631256  0.08785532 -0.2169750\n",
       "5 -0.2268023  0.11880106 -0.1463515\n",
       "6 -0.1999707 -0.06209912 -0.1106583"
      ]
     },
     "metadata": {},
     "output_type": "display_data"
    }
   ],
   "source": [
    "head(result)"
   ]
  },
  {
   "cell_type": "code",
   "execution_count": 31,
   "metadata": {},
   "outputs": [
    {
     "data": {
      "text/html": [
       "<table>\n",
       "<thead><tr><th scope=col>subject</th><th scope=col>activity</th><th scope=col>signal</th><th scope=col>mean</th><th scope=col>meanX</th><th scope=col>meanY</th><th scope=col>meanZ</th><th scope=col>std</th><th scope=col>stdX</th><th scope=col>stdY</th><th scope=col>stdZ</th></tr></thead>\n",
       "<tbody>\n",
       "\t<tr><td>9              </td><td>laying         </td><td> tGravityAccMag</td><td>-0.9476551     </td><td>NA             </td><td>NA             </td><td>NA             </td><td>-0.9165117     </td><td>NA             </td><td>NA             </td><td>NA             </td></tr>\n",
       "\t<tr><td>9              </td><td>laying         </td><td> tGravityAccMag</td><td>-0.9738158     </td><td>NA             </td><td>NA             </td><td>NA             </td><td>-0.9765451     </td><td>NA             </td><td>NA             </td><td>NA             </td></tr>\n",
       "\t<tr><td>9              </td><td>laying         </td><td> tGravityAccMag</td><td>-0.9667412     </td><td>NA             </td><td>NA             </td><td>NA             </td><td>-0.9752216     </td><td>NA             </td><td>NA             </td><td>NA             </td></tr>\n",
       "\t<tr><td>9              </td><td>laying         </td><td> tGravityAccMag</td><td>-0.9575159     </td><td>NA             </td><td>NA             </td><td>NA             </td><td>-0.9555869     </td><td>NA             </td><td>NA             </td><td>NA             </td></tr>\n",
       "\t<tr><td>9              </td><td>laying         </td><td> tGravityAccMag</td><td>-0.9185906     </td><td>NA             </td><td>NA             </td><td>NA             </td><td>-0.9105931     </td><td>NA             </td><td>NA             </td><td>NA             </td></tr>\n",
       "\t<tr><td>9              </td><td>laying         </td><td> tGravityAccMag</td><td>-0.9149584     </td><td>NA             </td><td>NA             </td><td>NA             </td><td>-0.9056572     </td><td>NA             </td><td>NA             </td><td>NA             </td></tr>\n",
       "</tbody>\n",
       "</table>\n"
      ],
      "text/latex": [
       "\\begin{tabular}{r|lllllllllll}\n",
       " subject & activity & signal & mean & meanX & meanY & meanZ & std & stdX & stdY & stdZ\\\\\n",
       "\\hline\n",
       "\t 9               & laying          &  tGravityAccMag & -0.9476551      & NA              & NA              & NA              & -0.9165117      & NA              & NA              & NA             \\\\\n",
       "\t 9               & laying          &  tGravityAccMag & -0.9738158      & NA              & NA              & NA              & -0.9765451      & NA              & NA              & NA             \\\\\n",
       "\t 9               & laying          &  tGravityAccMag & -0.9667412      & NA              & NA              & NA              & -0.9752216      & NA              & NA              & NA             \\\\\n",
       "\t 9               & laying          &  tGravityAccMag & -0.9575159      & NA              & NA              & NA              & -0.9555869      & NA              & NA              & NA             \\\\\n",
       "\t 9               & laying          &  tGravityAccMag & -0.9185906      & NA              & NA              & NA              & -0.9105931      & NA              & NA              & NA             \\\\\n",
       "\t 9               & laying          &  tGravityAccMag & -0.9149584      & NA              & NA              & NA              & -0.9056572      & NA              & NA              & NA             \\\\\n",
       "\\end{tabular}\n"
      ],
      "text/markdown": [
       "\n",
       "subject | activity | signal | mean | meanX | meanY | meanZ | std | stdX | stdY | stdZ | \n",
       "|---|---|---|---|---|---|\n",
       "| 9               | laying          |  tGravityAccMag | -0.9476551      | NA              | NA              | NA              | -0.9165117      | NA              | NA              | NA              | \n",
       "| 9               | laying          |  tGravityAccMag | -0.9738158      | NA              | NA              | NA              | -0.9765451      | NA              | NA              | NA              | \n",
       "| 9               | laying          |  tGravityAccMag | -0.9667412      | NA              | NA              | NA              | -0.9752216      | NA              | NA              | NA              | \n",
       "| 9               | laying          |  tGravityAccMag | -0.9575159      | NA              | NA              | NA              | -0.9555869      | NA              | NA              | NA              | \n",
       "| 9               | laying          |  tGravityAccMag | -0.9185906      | NA              | NA              | NA              | -0.9105931      | NA              | NA              | NA              | \n",
       "| 9               | laying          |  tGravityAccMag | -0.9149584      | NA              | NA              | NA              | -0.9056572      | NA              | NA              | NA              | \n",
       "\n",
       "\n"
      ],
      "text/plain": [
       "  subject activity signal          mean       meanX meanY meanZ std        stdX\n",
       "1 9       laying    tGravityAccMag -0.9476551 NA    NA    NA    -0.9165117 NA  \n",
       "2 9       laying    tGravityAccMag -0.9738158 NA    NA    NA    -0.9765451 NA  \n",
       "3 9       laying    tGravityAccMag -0.9667412 NA    NA    NA    -0.9752216 NA  \n",
       "4 9       laying    tGravityAccMag -0.9575159 NA    NA    NA    -0.9555869 NA  \n",
       "5 9       laying    tGravityAccMag -0.9185906 NA    NA    NA    -0.9105931 NA  \n",
       "6 9       laying    tGravityAccMag -0.9149584 NA    NA    NA    -0.9056572 NA  \n",
       "  stdY stdZ\n",
       "1 NA   NA  \n",
       "2 NA   NA  \n",
       "3 NA   NA  \n",
       "4 NA   NA  \n",
       "5 NA   NA  \n",
       "6 NA   NA  "
      ]
     },
     "metadata": {},
     "output_type": "display_data"
    }
   ],
   "source": [
    "tail(result)"
   ]
  },
  {
   "cell_type": "markdown",
   "metadata": {},
   "source": [
    "## Create a new independent dataset that reports averages "
   ]
  },
  {
   "cell_type": "code",
   "execution_count": 33,
   "metadata": {},
   "outputs": [
    {
     "name": "stderr",
     "output_type": "stream",
     "text": [
      "`summarise_each()` is deprecated.\n",
      "Use `summarise_all()`, `summarise_at()` or `summarise_if()` instead.\n",
      "To map `funs` over a selection of variables, use `summarise_at()`\n"
     ]
    }
   ],
   "source": [
    "result %>%\n",
    "    group_by(subject,activity,signal) %>%\n",
    "    summarise_each(funs(mean), avg_mean = mean, avg_meanX = meanX, avg_meanY = meanY,\n",
    "                  avg_meanZ = meanZ, avg_std = std, avg_stdX = stdX, avg_stdY = stdY,\n",
    "                  avg_stdZ = stdZ) ->\n",
    "    average_result"
   ]
  },
  {
   "cell_type": "code",
   "execution_count": 35,
   "metadata": {},
   "outputs": [
    {
     "data": {
      "text/html": [
       "<table>\n",
       "<thead><tr><th scope=col>subject</th><th scope=col>activity</th><th scope=col>signal</th><th scope=col>avg_mean</th><th scope=col>avg_meanX</th><th scope=col>avg_meanY</th><th scope=col>avg_meanZ</th><th scope=col>avg_std</th><th scope=col>avg_stdX</th><th scope=col>avg_stdY</th><th scope=col>avg_stdZ</th></tr></thead>\n",
       "<tbody>\n",
       "\t<tr><td>1                    </td><td>walking              </td><td> fBodyAcc            </td><td>        NA           </td><td>-0.20279431          </td><td> 0.08971273          </td><td>-0.331560118         </td><td>         NA          </td><td>-0.3191347           </td><td> 0.05604001          </td><td>-0.2796868           </td></tr>\n",
       "\t<tr><td>1                    </td><td>walking              </td><td> fBodyAccJerk        </td><td>        NA           </td><td>-0.17054696          </td><td>-0.03522552          </td><td>-0.468999225         </td><td>         NA          </td><td>-0.1335866           </td><td> 0.10673986          </td><td>-0.5347134           </td></tr>\n",
       "\t<tr><td>1                    </td><td>walking              </td><td> fBodyAccMag         </td><td>-0.1286235           </td><td>         NA          </td><td>         NA          </td><td>          NA         </td><td>-0.39803259          </td><td>        NA           </td><td>         NA          </td><td>        NA           </td></tr>\n",
       "\t<tr><td>1                    </td><td>walking              </td><td> fBodyBodyAccJerkMag </td><td>-0.0571194           </td><td>         NA          </td><td>         NA          </td><td>          NA         </td><td>-0.10349240          </td><td>        NA           </td><td>         NA          </td><td>        NA           </td></tr>\n",
       "\t<tr><td>1                    </td><td>walking              </td><td> fBodyBodyGyroJerkMag</td><td>-0.3193086           </td><td>         NA          </td><td>         NA          </td><td>          NA         </td><td>-0.38160191          </td><td>        NA           </td><td>         NA          </td><td>        NA           </td></tr>\n",
       "\t<tr><td>1                    </td><td>walking              </td><td> fBodyBodyGyroMag    </td><td>-0.1992526           </td><td>         NA          </td><td>         NA          </td><td>          NA         </td><td>-0.32101795          </td><td>        NA           </td><td>         NA          </td><td>        NA           </td></tr>\n",
       "\t<tr><td>1                    </td><td>walking              </td><td> fBodyGyro           </td><td>        NA           </td><td>-0.33903220          </td><td>-0.10305942          </td><td>-0.255940940         </td><td>         NA          </td><td>-0.5166919           </td><td>-0.03350816          </td><td>-0.4365622           </td></tr>\n",
       "\t<tr><td>1                    </td><td>walking              </td><td> tBodyAcc            </td><td>        NA           </td><td> 0.27733076          </td><td>-0.01738382          </td><td>-0.111148104         </td><td>         NA          </td><td>-0.2837403           </td><td> 0.11446134          </td><td>-0.2600279           </td></tr>\n",
       "\t<tr><td>1                    </td><td>walking              </td><td> tBodyAccJerk        </td><td>        NA           </td><td> 0.07404163          </td><td> 0.02827211          </td><td>-0.004168406         </td><td>         NA          </td><td>-0.1136156           </td><td> 0.06700250          </td><td>-0.5026998           </td></tr>\n",
       "\t<tr><td>1                    </td><td>walking              </td><td> tBodyAccJerkMag     </td><td>-0.1414288           </td><td>         NA          </td><td>         NA          </td><td>          NA         </td><td>-0.07447175          </td><td>        NA           </td><td>         NA          </td><td>        NA           </td></tr>\n",
       "</tbody>\n",
       "</table>\n"
      ],
      "text/latex": [
       "\\begin{tabular}{r|lllllllllll}\n",
       " subject & activity & signal & avg\\_mean & avg\\_meanX & avg\\_meanY & avg\\_meanZ & avg\\_std & avg\\_stdX & avg\\_stdY & avg\\_stdZ\\\\\n",
       "\\hline\n",
       "\t 1                     & walking               &  fBodyAcc             &         NA            & -0.20279431           &  0.08971273           & -0.331560118          &          NA           & -0.3191347            &  0.05604001           & -0.2796868           \\\\\n",
       "\t 1                     & walking               &  fBodyAccJerk         &         NA            & -0.17054696           & -0.03522552           & -0.468999225          &          NA           & -0.1335866            &  0.10673986           & -0.5347134           \\\\\n",
       "\t 1                     & walking               &  fBodyAccMag          & -0.1286235            &          NA           &          NA           &           NA          & -0.39803259           &         NA            &          NA           &         NA           \\\\\n",
       "\t 1                     & walking               &  fBodyBodyAccJerkMag  & -0.0571194            &          NA           &          NA           &           NA          & -0.10349240           &         NA            &          NA           &         NA           \\\\\n",
       "\t 1                     & walking               &  fBodyBodyGyroJerkMag & -0.3193086            &          NA           &          NA           &           NA          & -0.38160191           &         NA            &          NA           &         NA           \\\\\n",
       "\t 1                     & walking               &  fBodyBodyGyroMag     & -0.1992526            &          NA           &          NA           &           NA          & -0.32101795           &         NA            &          NA           &         NA           \\\\\n",
       "\t 1                     & walking               &  fBodyGyro            &         NA            & -0.33903220           & -0.10305942           & -0.255940940          &          NA           & -0.5166919            & -0.03350816           & -0.4365622           \\\\\n",
       "\t 1                     & walking               &  tBodyAcc             &         NA            &  0.27733076           & -0.01738382           & -0.111148104          &          NA           & -0.2837403            &  0.11446134           & -0.2600279           \\\\\n",
       "\t 1                     & walking               &  tBodyAccJerk         &         NA            &  0.07404163           &  0.02827211           & -0.004168406          &          NA           & -0.1136156            &  0.06700250           & -0.5026998           \\\\\n",
       "\t 1                     & walking               &  tBodyAccJerkMag      & -0.1414288            &          NA           &          NA           &           NA          & -0.07447175           &         NA            &          NA           &         NA           \\\\\n",
       "\\end{tabular}\n"
      ],
      "text/markdown": [
       "\n",
       "subject | activity | signal | avg_mean | avg_meanX | avg_meanY | avg_meanZ | avg_std | avg_stdX | avg_stdY | avg_stdZ | \n",
       "|---|---|---|---|---|---|---|---|---|---|\n",
       "| 1                     | walking               |  fBodyAcc             |         NA            | -0.20279431           |  0.08971273           | -0.331560118          |          NA           | -0.3191347            |  0.05604001           | -0.2796868            | \n",
       "| 1                     | walking               |  fBodyAccJerk         |         NA            | -0.17054696           | -0.03522552           | -0.468999225          |          NA           | -0.1335866            |  0.10673986           | -0.5347134            | \n",
       "| 1                     | walking               |  fBodyAccMag          | -0.1286235            |          NA           |          NA           |           NA          | -0.39803259           |         NA            |          NA           |         NA            | \n",
       "| 1                     | walking               |  fBodyBodyAccJerkMag  | -0.0571194            |          NA           |          NA           |           NA          | -0.10349240           |         NA            |          NA           |         NA            | \n",
       "| 1                     | walking               |  fBodyBodyGyroJerkMag | -0.3193086            |          NA           |          NA           |           NA          | -0.38160191           |         NA            |          NA           |         NA            | \n",
       "| 1                     | walking               |  fBodyBodyGyroMag     | -0.1992526            |          NA           |          NA           |           NA          | -0.32101795           |         NA            |          NA           |         NA            | \n",
       "| 1                     | walking               |  fBodyGyro            |         NA            | -0.33903220           | -0.10305942           | -0.255940940          |          NA           | -0.5166919            | -0.03350816           | -0.4365622            | \n",
       "| 1                     | walking               |  tBodyAcc             |         NA            |  0.27733076           | -0.01738382           | -0.111148104          |          NA           | -0.2837403            |  0.11446134           | -0.2600279            | \n",
       "| 1                     | walking               |  tBodyAccJerk         |         NA            |  0.07404163           |  0.02827211           | -0.004168406          |          NA           | -0.1136156            |  0.06700250           | -0.5026998            | \n",
       "| 1                     | walking               |  tBodyAccJerkMag      | -0.1414288            |          NA           |          NA           |           NA          | -0.07447175           |         NA            |          NA           |         NA            | \n",
       "\n",
       "\n"
      ],
      "text/plain": [
       "   subject activity signal                avg_mean   avg_meanX   avg_meanY  \n",
       "1  1       walking   fBodyAcc                     NA -0.20279431  0.08971273\n",
       "2  1       walking   fBodyAccJerk                 NA -0.17054696 -0.03522552\n",
       "3  1       walking   fBodyAccMag          -0.1286235          NA          NA\n",
       "4  1       walking   fBodyBodyAccJerkMag  -0.0571194          NA          NA\n",
       "5  1       walking   fBodyBodyGyroJerkMag -0.3193086          NA          NA\n",
       "6  1       walking   fBodyBodyGyroMag     -0.1992526          NA          NA\n",
       "7  1       walking   fBodyGyro                    NA -0.33903220 -0.10305942\n",
       "8  1       walking   tBodyAcc                     NA  0.27733076 -0.01738382\n",
       "9  1       walking   tBodyAccJerk                 NA  0.07404163  0.02827211\n",
       "10 1       walking   tBodyAccJerkMag      -0.1414288          NA          NA\n",
       "   avg_meanZ    avg_std     avg_stdX   avg_stdY    avg_stdZ  \n",
       "1  -0.331560118          NA -0.3191347  0.05604001 -0.2796868\n",
       "2  -0.468999225          NA -0.1335866  0.10673986 -0.5347134\n",
       "3            NA -0.39803259         NA          NA         NA\n",
       "4            NA -0.10349240         NA          NA         NA\n",
       "5            NA -0.38160191         NA          NA         NA\n",
       "6            NA -0.32101795         NA          NA         NA\n",
       "7  -0.255940940          NA -0.5166919 -0.03350816 -0.4365622\n",
       "8  -0.111148104          NA -0.2837403  0.11446134 -0.2600279\n",
       "9  -0.004168406          NA -0.1136156  0.06700250 -0.5026998\n",
       "10           NA -0.07447175         NA          NA         NA"
      ]
     },
     "metadata": {},
     "output_type": "display_data"
    }
   ],
   "source": [
    "head(average_result,10)"
   ]
  },
  {
   "cell_type": "code",
   "execution_count": 36,
   "metadata": {},
   "outputs": [
    {
     "data": {
      "text/html": [
       "<ol class=list-inline>\n",
       "\t<li>3060</li>\n",
       "\t<li>11</li>\n",
       "</ol>\n"
      ],
      "text/latex": [
       "\\begin{enumerate*}\n",
       "\\item 3060\n",
       "\\item 11\n",
       "\\end{enumerate*}\n"
      ],
      "text/markdown": [
       "1. 3060\n",
       "2. 11\n",
       "\n",
       "\n"
      ],
      "text/plain": [
       "[1] 3060   11"
      ]
     },
     "metadata": {},
     "output_type": "display_data"
    }
   ],
   "source": [
    "dim(average_result)"
   ]
  },
  {
   "cell_type": "markdown",
   "metadata": {},
   "source": [
    "## Write to .csv file"
   ]
  },
  {
   "cell_type": "code",
   "execution_count": 39,
   "metadata": {},
   "outputs": [],
   "source": [
    "write.csv(average_result, file = \"averages.csv\",row.names=FALSE)\n",
    "write.csv(result, file = \"results.csv\",row.names=FALSE)"
   ]
  },
  {
   "cell_type": "code",
   "execution_count": null,
   "metadata": {},
   "outputs": [],
   "source": []
  }
 ],
 "metadata": {
  "kernelspec": {
   "display_name": "R",
   "language": "R",
   "name": "ir"
  },
  "language_info": {
   "codemirror_mode": "r",
   "file_extension": ".r",
   "mimetype": "text/x-r-source",
   "name": "R",
   "pygments_lexer": "r",
   "version": "3.4.3"
  }
 },
 "nbformat": 4,
 "nbformat_minor": 2
}
